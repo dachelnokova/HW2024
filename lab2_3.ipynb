{
  "cells": [
    {
      "cell_type": "markdown",
      "id": "92aec187-a203-4b56-9e04-ac276af0e5df",
      "metadata": {
        "id": "92aec187-a203-4b56-9e04-ac276af0e5df"
      },
      "source": [
        "# Лабораторная работа 2-3\n",
        "Язык грамматики: итальянский"
      ]
    },
    {
      "cell_type": "markdown",
      "source": [
        "## Lab2\n",
        "\n",
        "Написание контекстно-свободной грамматики для естественного или формального языка\n",
        "Необходимо написать контекстно-свободную грамматику, описывающую фрагмент выбранного студентом языка. Объем грамматики: 15-20 правил. Грамматика может описывать как формальный, так и естественный язык.  \n",
        "\n",
        "Критерии оценки:  \n",
        "6 - полнота охвата выбранной группы (в рамках дюжины правил)  \n",
        "4 - красота решения (субъективное мнение преподавателя)  \n"
      ],
      "metadata": {
        "id": "HTRV0BnAcbix"
      },
      "id": "HTRV0BnAcbix"
    },
    {
      "cell_type": "code",
      "execution_count": null,
      "id": "4c72376a-6d29-427f-9e8c-bafa1801a523",
      "metadata": {
        "id": "4c72376a-6d29-427f-9e8c-bafa1801a523"
      },
      "outputs": [],
      "source": [
        "#язык: итальянский"
      ]
    },
    {
      "cell_type": "code",
      "execution_count": null,
      "id": "23186982-7573-4184-a1bc-b822fe991cbc",
      "metadata": {
        "id": "23186982-7573-4184-a1bc-b822fe991cbc"
      },
      "outputs": [],
      "source": [
        "S ::= VP S\n",
        "\n",
        "VP ::= LEFTv V RIGHTv # местами поменять нельзя, так как подлежащее всегда перед глаголом, а причастия, герундии, зависимые от глагола VP  – после\n",
        "LEFTv ::= eps | Subj* AdvP* PP* NP* AdvP* LEFTv # перед глаголом могут быть подлежащее, AdvP, PP, NP(все от 0 и больше в любом порядке)\n",
        "RIGHTv ::= eps | VP* Ger* Part* NP* AdjP* PP* AdvP* RIGHTv\n",
        "\n",
        "NP ::= LEFTn N RIGHTn # DetMin может идти только перед N, PartP только после N\n",
        "LEFTn ::= DetMin PronMin AdjP LEFTn # все из этого может быть, может не быть\n",
        "RIGHTn ::= PronMin AdjP PartP RIGHTn # N PartP: il libro letto (прочитанная книга)\n",
        "\n",
        "Subj ::=  NP | PronMin\n",
        "PP ::= Prep NP\n",
        "\n",
        "AdjP ::= eps | AdjPmin AdjP # либо 0 AdjPmin, либо 1, либо много\n",
        "AdjPmin ::= AdvMin* Adj | AdvMin* Adj PP | PP AdvMin* Adj  # (terribilmente) bello (a mio avviso) – ужасно красивый, на мой взгляд\n",
        "\n",
        "PartP ::= eps | PartPMin PartP # причастия могут идти несколько подряд (il libro letto riletto – книга читанная перечитанная)\n",
        "PartPMin ::= Part AdvP* PP* # letto molto velocemente sotto il piumone (прочитано очень быстро под одеялом)\n",
        "\n",
        "AdvP ::= eps | Adv AdvP | AdvP PP... #  molto vicino a casa (очень близко к дому)\n",
        "\n",
        "DetMin ::= eps | Det # артикль может быть подряд только 1\n",
        "PronMin ::= eps | Pron PronMin # местоимения могут несколько подряд (Io te lo consiglio я тебе это советую)\n",
        "\n",
        "Prep ::= preposition | prepositional_article | preposition Det\n",
        "Adv ::= adverb\n",
        "Pron ::= pronoun\n",
        "V ::= verb\n",
        "N ::= noun\n",
        "Det ::= determiner\n",
        "Adj ::= adjective\n",
        "Part ::= participle\n",
        "Ger ::= gerund"
      ]
    },
    {
      "cell_type": "markdown",
      "source": [
        "## Lab3\n",
        "\n",
        "Необходимо написать программу с использованием контекстно-свободного парсера строк, которая бы реализовала разбор грамматики, написанной во второй лабораторной работе   \n",
        "\n",
        "Критерии оценки:  \n",
        "\n",
        "2 - рабочая программа  \n",
        "2 - с использованием специальной библиотеки   \n",
        "2 - парсер входного языка, который просто проверяет входное предложение  \n",
        "2 - парсер входного языка, который совершает какие-то действия над входным предложением  \n",
        "2 - красота решения (субъективное мнение преподавателя)  "
      ],
      "metadata": {
        "id": "vaFfzrMGckP0"
      },
      "id": "vaFfzrMGckP0"
    },
    {
      "cell_type": "markdown",
      "source": [
        "### 1.Парсер входного языка, который просто проверяет входное предложение (NLTK + spacy)"
      ],
      "metadata": {
        "id": "bQ4hAfxkdD52"
      },
      "id": "bQ4hAfxkdD52"
    },
    {
      "cell_type": "markdown",
      "source": [
        "#### Импорты"
      ],
      "metadata": {
        "id": "Q5xdCXMtdh27"
      },
      "id": "Q5xdCXMtdh27"
    },
    {
      "cell_type": "code",
      "source": [
        "#!pip install spacy\n",
        "#!python -m spacy download it_core_news_md\n"
      ],
      "metadata": {
        "id": "fTjz2Bf_etIV"
      },
      "id": "fTjz2Bf_etIV",
      "execution_count": 163,
      "outputs": []
    },
    {
      "cell_type": "code",
      "execution_count": 5,
      "id": "8ccf6421-95c5-474f-a92b-85aa214d9f55",
      "metadata": {
        "id": "8ccf6421-95c5-474f-a92b-85aa214d9f55"
      },
      "outputs": [],
      "source": [
        "import nltk\n",
        "import spacy\n",
        "from nltk import CFG, RecursiveDescentParser\n",
        "# модель для итальянского языка для pos теггирования входящего текста"
      ]
    },
    {
      "cell_type": "code",
      "execution_count": 5,
      "id": "be6a733d-30cb-4296-bee3-dd28c4e4f7e7",
      "metadata": {
        "id": "be6a733d-30cb-4296-bee3-dd28c4e4f7e7"
      },
      "outputs": [],
      "source": []
    },
    {
      "cell_type": "markdown",
      "source": [
        "#### POS теггирование предложения"
      ],
      "metadata": {
        "id": "9ZKB-lNXd5an"
      },
      "id": "9ZKB-lNXd5an"
    },
    {
      "cell_type": "code",
      "execution_count": 146,
      "id": "00059c3b-e012-4166-9915-ea407bba8d4b",
      "metadata": {
        "colab": {
          "base_uri": "https://localhost:8080/"
        },
        "id": "00059c3b-e012-4166-9915-ea407bba8d4b",
        "outputId": "161f58f3-121b-4d20-eff5-b84d1cd51b49"
      },
      "outputs": [
        {
          "output_type": "execute_result",
          "data": {
            "text/plain": [
              "['DET', 'NOUN', 'VERB', 'DET', 'NOUN']"
            ]
          },
          "metadata": {},
          "execution_count": 146
        }
      ],
      "source": [
        "def tag_sentence(sentence):\n",
        "    doc = nlp(sentence)\n",
        "    # получение POS-тегов для каждого слова\n",
        "    pos_tags = [token.pos_ for token in doc if not token.is_punct]\n",
        "    return pos_tags\n",
        "\n",
        "sentence = \"il gatto mangia il pesce\"\n",
        "tagged_sentence = tag_sentence(sentence)\n",
        "tagged_sentence\n"
      ]
    },
    {
      "cell_type": "code",
      "execution_count": 146,
      "id": "4b5ed9ba-5990-4d17-b536-1e8b842f73e6",
      "metadata": {
        "id": "4b5ed9ba-5990-4d17-b536-1e8b842f73e6"
      },
      "outputs": [],
      "source": []
    },
    {
      "cell_type": "markdown",
      "source": [
        "#### Парсер"
      ],
      "metadata": {
        "id": "TcmYAv8eeJuw"
      },
      "id": "TcmYAv8eeJuw"
    },
    {
      "cell_type": "code",
      "execution_count": 147,
      "id": "477bc745-7430-4ed8-a3b1-1c110628d62e",
      "metadata": {
        "id": "477bc745-7430-4ed8-a3b1-1c110628d62e"
      },
      "outputs": [],
      "source": [
        "grammar = CFG.fromstring(\"\"\"\n",
        "    S -> Subj VP | S CONJ S\n",
        "    Subj -> NP | PronP\n",
        "    NP -> DetP N | DetP AdjP N | DetP N PP | DetP AdjP N PP | DetP N AdjP | NP CONJ NP | AdjP N AdjP | NP NP | NP PP |\n",
        "    VP -> V RIGHTv | PronP V V |\n",
        "    RIGHTv -> AdvP | NP | PP | NP PP | AdvP NP | AdjP | AdjP PP | AdjP PP NP | AdvP P VP | RIGHTv RIGHTv | V NP\n",
        "    PronP -> PRON | PRON ADJ | PRON ADV | PRON ADJ ADV\n",
        "    DetP -> Det AdjP | Det PROPN | Det | DetP DetP\n",
        "    AdjP -> ADJ | ADJ AdjP | AdjP CONJ AdjP\n",
        "    AdvP -> ADV | ADV AdvP | ADV PP\n",
        "    PP -> P NP\n",
        "\n",
        "\n",
        "    Det -> 'DET' |\n",
        "    CONJ -> 'CCONJ' | \"SCONJ\" | ADV CONJ\n",
        "    N -> 'NOUN' | 'PROPN'\n",
        "    V -> 'VERB' | 'AUX' | PRON V\n",
        "    ADV -> 'ADV'\n",
        "    ADJ -> 'ADJ'\n",
        "    P -> 'ADP'\n",
        "    PRON -> 'PRON'\n",
        "\n",
        "\n",
        "\"\"\")\n"
      ]
    },
    {
      "cell_type": "code",
      "execution_count": 148,
      "id": "d04020d9-8282-4f7f-b21a-71949a0f8b61",
      "metadata": {
        "id": "d04020d9-8282-4f7f-b21a-71949a0f8b61"
      },
      "outputs": [],
      "source": [
        "def check_sentence_agreement(sentence, grammar):\n",
        "    pos_tags = tag_sentence(sentence)\n",
        "    parser = nltk.ChartParser(grammar)\n",
        "    # попытка разбора предложения\n",
        "    try:\n",
        "        return any(True for _ in parser.parse(pos_tags))  # предложение соответствует грамматике\n",
        "    except ValueError:\n",
        "        return False #предложение не соответствует грамматике"
      ]
    },
    {
      "cell_type": "code",
      "execution_count": 149,
      "id": "64937415-5e18-4e1d-94ef-9daa456b3821",
      "metadata": {
        "colab": {
          "base_uri": "https://localhost:8080/",
          "height": 35
        },
        "id": "64937415-5e18-4e1d-94ef-9daa456b3821",
        "outputId": "751d637d-de66-4919-c721-9ce19383bd3b"
      },
      "outputs": [
        {
          "output_type": "execute_result",
          "data": {
            "text/plain": [
              "'Lo devo fare'"
            ],
            "application/vnd.google.colaboratory.intrinsic+json": {
              "type": "string"
            }
          },
          "metadata": {},
          "execution_count": 149
        }
      ],
      "source": [
        "# предложения разбираются:\n",
        "\"Il gatto mangia il pesce\"\n",
        "\"Il gatto mangia il pesce e il cane beve l'acqua\"\n",
        "\"Il grande gatto mangia il piccolo pesce\"\n",
        "\"Il gatto mangia rapidamente il pesce\"\n",
        "\"Il gatto mangia con il pesce\"\n",
        "\"Il gatto grande mangia rapidamente il pesce e il cane piccolo beve con l'acqua\"\n",
        "\n",
        "\"Il cane piccolo beve l'acqua e il gatto mangia il pesce.\"\n",
        "\"Il pesce mangia il gatto mentre il cane dorme.\"\n",
        "\"Il grande pesce mangia il piccolo gatto.\"\n",
        "\"Il pesce e il gatto giocano insieme.\"\n",
        "\"Il gatto dorme mentre il pesce nuota nel acquario.\"\n",
        "\"Il cane beve l'acqua mentre il gatto mangia il pesce.\"\n",
        "\"Il pesce piccolo e il grande gatto nuotano nel fiume.\"\n",
        "\"Il pesce mangia il gatto dopo che il cane mangia.\"\n",
        "\"Il pesce rosso e il gatto nero vivono insieme.\"\n",
        "\"Il gatto mangia il pesce fresco mentre il cane osserva.\"\n",
        "\n",
        "\n",
        "\"La bella ragazza legge un libro interessante nella biblioteca.\"\n",
        "\"Mia madre prepara deliziosi piatti italiani ogni giorno.\"\n",
        "\"I bambini giocano felici nel parco con il loro cane.\"\n",
        "\"Ogni mattina faccio una lunga passeggiata nel parco vicino casa.\"\n",
        "\"Ogni mattina mi sveglio presto per fare colazione.\"\n",
        "\"Il professore spiega la lezione con molta chiarezza agli studenti.\"\n",
        "\"La dolce melodia della chitarra riempie l'aria della serata.\"\n",
        "\"So un regalo speciale per il compleanno di mia sorella.\"\n",
        "\n",
        "\n",
        "\"La casa è grande e luminosa.\"\n",
        "\"La piazza del mercato è piena di bancarelle e persone.\"\n",
        "\"La torta al cioccolato è la mia tarta preferita.\"\n",
        "\"Il mio gatto nero dorme sul divano.\"\n",
        "\"Le montagne innevate sono uno spettacolo meraviglioso.\"\n",
        "\"I bambini felici giocano nel parco sotto il sole.\"\n",
        "\"Il treno per Roma parte dalla stazione principale.\"\n",
        "\"Il grande gatto nero mangia il delizioso pesce fresco velocemente nella cucina luminosa e spaziosa di mia nonna.\"\n",
        "\"Lo devo fare\""
      ]
    },
    {
      "cell_type": "code",
      "execution_count": 150,
      "id": "43ffb8d8-1588-4331-a5d4-ec2aa06aea22",
      "metadata": {
        "colab": {
          "base_uri": "https://localhost:8080/"
        },
        "id": "43ffb8d8-1588-4331-a5d4-ec2aa06aea22",
        "outputId": "3d96587c-9bb2-4b0f-b551-8076576b87f8"
      },
      "outputs": [
        {
          "output_type": "stream",
          "name": "stdout",
          "text": [
            "True\n",
            "\n",
            "POS-tagged: ['PRON', 'AUX', 'VERB', 'DET', 'NOUN']\n"
          ]
        }
      ],
      "source": [
        "# проверка предложения на согласованность с грамматикой\n",
        "sentence = \"Io voglio suonare il pianoforte\"\n",
        "is_agree = check_sentence_agreement(sentence, grammar)\n",
        "print(\"True\" if is_agree else \"False\")\n",
        "\n",
        "# токенизация и POS-теггирование предложения\n",
        "pos_tags = tag_sentence(sentence)\n",
        "print(\"\\nPOS-tagged:\", pos_tags)"
      ]
    },
    {
      "cell_type": "markdown",
      "source": [
        "### 2. Парсер входного языка, который превращает утвердительное предложение в отрицательное"
      ],
      "metadata": {
        "id": "_vHrsO9JdQ7e"
      },
      "id": "_vHrsO9JdQ7e"
    },
    {
      "cell_type": "code",
      "source": [
        "# non ставится перед глаголом\n",
        "# если перед глаголом еще стоит местоимение (указательное/возвратное), то non перед ним\n",
        "def negate_sentence_if_agree(sentence):\n",
        "    # Проверка соответствия предложения грамматике\n",
        "    is_agree = check_sentence_agreement(sentence, grammar)\n",
        "    if is_agree:\n",
        "        print(\"Предложение:\", sentence)\n",
        "        print(\"Предложение соответствует грамматике\")\n",
        "    else:\n",
        "        print(\"Предложение не соответствует грамматике:\", sentence)\n",
        "        return\n",
        "\n",
        "    doc = nlp(sentence)\n",
        "    negated_sentence = []\n",
        "    negation_added = False\n",
        "\n",
        "    for token in doc:\n",
        "        # если токен - не личное местоимение и следующий токен - глагол\n",
        "        if token.pos_ == \"PRON\" and token.text.lower() not in [\"io\", \"tu\", \"lui\", \"lei\", \"noi\", \"voi\", \"loro\"] and token.i + 1 < len(doc) and (doc[token.i + 1].pos_ == \"VERB\" or doc[token.i + 1].pos_ == \"AUX\") and not negation_added:\n",
        "            negated_sentence.append(\"non\")\n",
        "            negation_added = True\n",
        "            negated_sentence.append(token.text)\n",
        "        # если токен - глагол и отрицание ещё не добавлено\n",
        "        elif (token.pos_ == \"VERB\" or token.pos_ == \"AUX\") and not negation_added:\n",
        "            negated_sentence.append(\"non\")\n",
        "            negated_sentence.append(token.text)\n",
        "            negation_added = True\n",
        "        elif negation_added:\n",
        "            negated_sentence.append(token.text)\n",
        "        else:\n",
        "            negated_sentence.append(token.text)\n",
        "\n",
        "    negated_result = \" \".join(negated_sentence)\n",
        "    print(\"Отрицание:\", negated_result)\n",
        "\n"
      ],
      "metadata": {
        "id": "8X9SPJqv8LN2"
      },
      "id": "8X9SPJqv8LN2",
      "execution_count": 161,
      "outputs": []
    },
    {
      "cell_type": "code",
      "source": [
        "sentences = [\n",
        "    \"Noi ti crediamo\",\n",
        "    \"La casa è grande\",\n",
        "    \"Il grande pesce mangia il piccolo gatto\",\n",
        "    \"Io voglio suonare il pianoforte\",\n",
        "    \"Io lo voglio fare\"\n",
        "]\n",
        "\n",
        "for sentence in sentences:\n",
        "    negate_sentence_if_agree(sentence)\n",
        "    print(\"\\n\")\n"
      ],
      "metadata": {
        "colab": {
          "base_uri": "https://localhost:8080/"
        },
        "id": "wOdOc26hIwHi",
        "outputId": "6626aefc-6b6c-4360-e131-8efa306062ce"
      },
      "id": "wOdOc26hIwHi",
      "execution_count": 162,
      "outputs": [
        {
          "output_type": "stream",
          "name": "stdout",
          "text": [
            "Предложение: Noi ti crediamo\n",
            "Предложение соответствует грамматике\n",
            "Отрицание: Noi non ti crediamo\n",
            "\n",
            "\n",
            "Предложение: La casa è grande\n",
            "Предложение соответствует грамматике\n",
            "Отрицание: La casa non è grande\n",
            "\n",
            "\n",
            "Предложение: Il grande pesce mangia il piccolo gatto\n",
            "Предложение соответствует грамматике\n",
            "Отрицание: Il grande pesce non mangia il piccolo gatto\n",
            "\n",
            "\n",
            "Предложение: Io voglio suonare il pianoforte\n",
            "Предложение соответствует грамматике\n",
            "Отрицание: Io non voglio suonare il pianoforte\n",
            "\n",
            "\n",
            "Предложение: Io lo voglio fare\n",
            "Предложение соответствует грамматике\n",
            "Отрицание: Io non lo voglio fare\n",
            "\n",
            "\n"
          ]
        }
      ]
    }
  ],
  "metadata": {
    "kernelspec": {
      "display_name": "Python 3",
      "name": "python3"
    },
    "language_info": {
      "codemirror_mode": {
        "name": "ipython",
        "version": 3
      },
      "file_extension": ".py",
      "mimetype": "text/x-python",
      "name": "python",
      "nbconvert_exporter": "python",
      "pygments_lexer": "ipython3",
      "version": "3.11.2"
    },
    "colab": {
      "provenance": [],
      "collapsed_sections": [
        "HTRV0BnAcbix",
        "Q5xdCXMtdh27"
      ],
      "gpuType": "T4"
    },
    "accelerator": "GPU"
  },
  "nbformat": 4,
  "nbformat_minor": 5
}